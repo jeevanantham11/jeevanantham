{
 "cells": [
  {
   "cell_type": "markdown",
   "metadata": {
    "id": "y7_H1NiclAwA"
   },
   "source": [
    "# **Basic Python**"
   ]
  },
  {
   "cell_type": "markdown",
   "metadata": {
    "id": "mhu-0rbVla83"
   },
   "source": [
    "### **1. Split this string**"
   ]
  },
  {
   "cell_type": "code",
   "execution_count": 8,
   "metadata": {
    "colab": {
     "base_uri": "https://localhost:8080/"
    },
    "id": "OQhUzM4Llfxx",
    "outputId": "23b8d256-eda5-4413-825d-e03a35ebc81a"
   },
   "outputs": [
    {
     "data": {
      "text/plain": [
       "['Hi', 'there', 'Maddy!']"
      ]
     },
     "execution_count": 8,
     "metadata": {},
     "output_type": "execute_result"
    }
   ],
   "source": [
    "s=\"Hi there Maddy!\"\n",
    "s.split()"
   ]
  },
  {
   "cell_type": "markdown",
   "metadata": {
    "id": "oGkGEVqtmKEO"
   },
   "source": [
    "### **2. Use .format() to print the following string.**"
   ]
  },
  {
   "cell_type": "markdown",
   "metadata": {
    "id": "FlXHapaDm4rm"
   },
   "source": [
    "Output should be: The diameter of Earth is 12742 kilometers.bold text"
   ]
  },
  {
   "cell_type": "code",
   "execution_count": 9,
   "metadata": {
    "id": "Twy3Ig9Bm-tD"
   },
   "outputs": [],
   "source": [
    "planet=\"Earth\"\n",
    "diameter=12742"
   ]
  },
  {
   "cell_type": "code",
   "execution_count": 10,
   "metadata": {
    "colab": {
     "base_uri": "https://localhost:8080/"
    },
    "id": "_xj5P10lnL3v",
    "outputId": "711faab0-4ea8-41ca-8b10-58e6a731d238"
   },
   "outputs": [
    {
     "name": "stdout",
     "output_type": "stream",
     "text": [
      "The diameter of Earth is 12742 kilometer\n"
     ]
    }
   ],
   "source": [
    "print(\"The diameter of {} is {} kilometer\".format(planet,diameter));"
   ]
  },
  {
   "cell_type": "markdown",
   "metadata": {
    "id": "sFGq9vxjzV1D"
   },
   "source": [
    "### **3. In this nest dictionary grab the word \"hello\"**\n"
   ]
  },
  {
   "cell_type": "code",
   "execution_count": 11,
   "metadata": {
    "id": "p_8B-qPazegm"
   },
   "outputs": [],
   "source": [
    "d = {'k1':[1,2,3,{'tricky':['oh','man','inception',{'target':[1,2,3,'hello']}]}]}"
   ]
  },
  {
   "cell_type": "code",
   "execution_count": 12,
   "metadata": {
    "colab": {
     "base_uri": "https://localhost:8080/",
     "height": 35
    },
    "id": "s-5RryC-zqLG",
    "outputId": "e5044379-663b-4a6e-f51d-7a88b4f895f2"
   },
   "outputs": [
    {
     "data": {
      "text/plain": [
       "'hello'"
      ]
     },
     "execution_count": 12,
     "metadata": {},
     "output_type": "execute_result"
    }
   ],
   "source": [
    "d['k1'][3]['tricky'][3]['target'][3]"
   ]
  },
  {
   "cell_type": "markdown",
   "metadata": {
    "id": "TnZQZVEw0MDV"
   },
   "source": [
    "## **Numpy**"
   ]
  },
  {
   "cell_type": "code",
   "execution_count": 13,
   "metadata": {
    "id": "qm9WqyCp0Ljs"
   },
   "outputs": [],
   "source": [
    "import numpy as np"
   ]
  },
  {
   "cell_type": "markdown",
   "metadata": {
    "id": "RJKZHLzl0ZEZ"
   },
   "source": [
    "**4.1 Create an array of 10 zeros?**\n",
    "\n",
    "**4.2 Create an array of 10 threes?**"
   ]
  },
  {
   "cell_type": "code",
   "execution_count": 14,
   "metadata": {
    "id": "8KLDGkGt0eck"
   },
   "outputs": [],
   "source": [
    "a=np.zeros(10)"
   ]
  },
  {
   "cell_type": "code",
   "execution_count": 15,
   "metadata": {
    "colab": {
     "base_uri": "https://localhost:8080/"
    },
    "id": "U5HprF30098W",
    "outputId": "9c391284-fc99-4dba-8bc2-4157a9e06d07"
   },
   "outputs": [
    {
     "data": {
      "text/plain": [
       "array([0., 0., 0., 0., 0., 0., 0., 0., 0., 0.])"
      ]
     },
     "execution_count": 15,
     "metadata": {},
     "output_type": "execute_result"
    }
   ],
   "source": [
    "a"
   ]
  },
  {
   "cell_type": "code",
   "execution_count": 16,
   "metadata": {
    "colab": {
     "base_uri": "https://localhost:8080/"
    },
    "id": "KR4Y0BCf1FBS",
    "outputId": "3d45ec80-1b86-4a3d-dd5d-b0cad34f587d"
   },
   "outputs": [
    {
     "data": {
      "text/plain": [
       "array([3., 3., 3., 3., 3., 3., 3., 3., 3., 3.])"
      ]
     },
     "execution_count": 16,
     "metadata": {},
     "output_type": "execute_result"
    }
   ],
   "source": [
    "b=np.ones(10)*3\n",
    "b"
   ]
  },
  {
   "cell_type": "markdown",
   "metadata": {
    "id": "MJI6Z8fd27up"
   },
   "source": [
    "### **5. Create an array of all the even integers from 30 to 55**"
   ]
  },
  {
   "cell_type": "code",
   "execution_count": 17,
   "metadata": {
    "id": "XMRgaHtJ3CiY"
   },
   "outputs": [],
   "source": [
    "s=np.arange(30,55,2)"
   ]
  },
  {
   "cell_type": "code",
   "execution_count": 18,
   "metadata": {
    "colab": {
     "base_uri": "https://localhost:8080/"
    },
    "id": "Rm7p3VRG3Wzq",
    "outputId": "b9c4d03f-fc81-49e3-818a-e272a51346dd"
   },
   "outputs": [
    {
     "data": {
      "text/plain": [
       "array([30, 32, 34, 36, 38, 40, 42, 44, 46, 48, 50, 52, 54])"
      ]
     },
     "execution_count": 18,
     "metadata": {},
     "output_type": "execute_result"
    }
   ],
   "source": [
    "s"
   ]
  },
  {
   "cell_type": "markdown",
   "metadata": {
    "id": "aQTfH5n03ZMx"
   },
   "source": [
    "### **6. Create a 5x5 matrix with values ranging from 0 to 25**"
   ]
  },
  {
   "cell_type": "code",
   "execution_count": 19,
   "metadata": {
    "colab": {
     "base_uri": "https://localhost:8080/"
    },
    "id": "XcavkYdY3kTR",
    "outputId": "01b42ec2-ddac-41a6-d664-d4fe73bc3134"
   },
   "outputs": [
    {
     "data": {
      "text/plain": [
       "array([[ 0,  1,  2,  3,  4],\n",
       "       [ 5,  6,  7,  8,  9],\n",
       "       [10, 11, 12, 13, 14],\n",
       "       [15, 16, 17, 18, 19],\n",
       "       [20, 21, 22, 23, 24]])"
      ]
     },
     "execution_count": 19,
     "metadata": {},
     "output_type": "execute_result"
    }
   ],
   "source": [
    "b=np.arange(0,25).reshape(5,5)\n",
    "b"
   ]
  },
  {
   "cell_type": "markdown",
   "metadata": {
    "id": "SqNfkLcD4SBy"
   },
   "source": [
    "### **7. Concatinate a and b**\n",
    "**a = [3, 5, 7]**\n",
    "\n",
    "**b = [2, 4, 6]**"
   ]
  },
  {
   "cell_type": "code",
   "execution_count": 20,
   "metadata": {
    "id": "HukLt7164Twt"
   },
   "outputs": [],
   "source": [
    "a=np.array([3,5,7])\n",
    "b=np.array([2,4,6])"
   ]
  },
  {
   "cell_type": "code",
   "execution_count": 21,
   "metadata": {
    "colab": {
     "base_uri": "https://localhost:8080/"
    },
    "id": "QgHwP0yb5Dmv",
    "outputId": "d754dc51-93d4-414f-85cc-da786f7feda1"
   },
   "outputs": [
    {
     "data": {
      "text/plain": [
       "array([3, 5, 7, 2, 4, 6])"
      ]
     },
     "execution_count": 21,
     "metadata": {},
     "output_type": "execute_result"
    }
   ],
   "source": [
    "np.concatenate((a,b))"
   ]
  },
  {
   "cell_type": "markdown",
   "metadata": {
    "id": "outrMZNi5Sut"
   },
   "source": [
    "### **7.1 . Concatinate a and b with sort**\n"
   ]
  },
  {
   "cell_type": "code",
   "execution_count": 22,
   "metadata": {
    "colab": {
     "base_uri": "https://localhost:8080/"
    },
    "id": "JU0e5Ted5gi6",
    "outputId": "16f42072-65bc-4d6b-a6d7-fe4d20fc2665"
   },
   "outputs": [
    {
     "data": {
      "text/plain": [
       "[2, 3, 4, 5, 6, 7]"
      ]
     },
     "execution_count": 22,
     "metadata": {},
     "output_type": "execute_result"
    }
   ],
   "source": [
    "k=sorted(np.concatenate((a,b),axis=0))\n",
    "k"
   ]
  },
  {
   "cell_type": "markdown",
   "metadata": {
    "id": "64dmxHNU5-nv"
   },
   "source": [
    "## **Pandas**"
   ]
  },
  {
   "cell_type": "code",
   "execution_count": 28,
   "metadata": {
    "id": "vcsaRetd6BCp"
   },
   "outputs": [],
   "source": [
    "import pandas as pd"
   ]
  },
  {
   "cell_type": "code",
   "execution_count": 29,
   "metadata": {
    "colab": {
     "base_uri": "https://localhost:8080/",
     "height": 175
    },
    "id": "GPzITazD6JML",
    "outputId": "47b62e1e-9893-43d7-caab-d930be94798c"
   },
   "outputs": [
    {
     "data": {
      "text/html": [
       "<div>\n",
       "<style scoped>\n",
       "    .dataframe tbody tr th:only-of-type {\n",
       "        vertical-align: middle;\n",
       "    }\n",
       "\n",
       "    .dataframe tbody tr th {\n",
       "        vertical-align: top;\n",
       "    }\n",
       "\n",
       "    .dataframe thead th {\n",
       "        text-align: right;\n",
       "    }\n",
       "</style>\n",
       "<table border=\"1\" class=\"dataframe\">\n",
       "  <thead>\n",
       "    <tr style=\"text-align: right;\">\n",
       "      <th></th>\n",
       "      <th>names</th>\n",
       "      <th>age</th>\n",
       "    </tr>\n",
       "  </thead>\n",
       "  <tbody>\n",
       "    <tr>\n",
       "      <th>0</th>\n",
       "      <td>Raampradaap</td>\n",
       "      <td>20</td>\n",
       "    </tr>\n",
       "    <tr>\n",
       "      <th>1</th>\n",
       "      <td>jeevanantham</td>\n",
       "      <td>20</td>\n",
       "    </tr>\n",
       "    <tr>\n",
       "      <th>2</th>\n",
       "      <td>saravanakumar</td>\n",
       "      <td>20</td>\n",
       "    </tr>\n",
       "    <tr>\n",
       "      <th>3</th>\n",
       "      <td>jeevanantham</td>\n",
       "      <td>20</td>\n",
       "    </tr>\n",
       "    <tr>\n",
       "      <th>4</th>\n",
       "      <td>Sasireka</td>\n",
       "      <td>20</td>\n",
       "    </tr>\n",
       "  </tbody>\n",
       "</table>\n",
       "</div>"
      ],
      "text/plain": [
       "           names  age\n",
       "0    Raampradaap   20\n",
       "1   jeevanantham   20\n",
       "2  saravanakumar   20\n",
       "3   jeevanantham   20\n",
       "4       Sasireka   20"
      ]
     },
     "execution_count": 29,
     "metadata": {},
     "output_type": "execute_result"
    }
   ],
   "source": [
    "d = {\"names\":[\"Raampradaap\",\"jeevanantham\",\"saravanakumar\",\"jeevanantham\",\"Sasireka\"],\"age\":[20,20,20,20,20]}\n",
    "df = pd.DataFrame(d)\n",
    "df"
   ]
  },
  {
   "cell_type": "markdown",
   "metadata": {
    "id": "JAhLZXGH6wIu"
   },
   "source": [
    "### **9. Generate the series of dates from 1st Nov, 2022 to 31th Dec, 2022**"
   ]
  },
  {
   "cell_type": "code",
   "execution_count": 25,
   "metadata": {
    "colab": {
     "base_uri": "https://localhost:8080/"
    },
    "id": "P1RhPmru6y69",
    "outputId": "2b9ed914-7147-42bf-c46c-972cf771a79e"
   },
   "outputs": [
    {
     "name": "stdout",
     "output_type": "stream",
     "text": [
      "2022-01-11 00:00:00\n",
      "2022-01-12 00:00:00\n",
      "2022-01-13 00:00:00\n",
      "2022-01-14 00:00:00\n",
      "2022-01-15 00:00:00\n",
      "2022-01-16 00:00:00\n",
      "2022-01-17 00:00:00\n",
      "2022-01-18 00:00:00\n",
      "2022-01-19 00:00:00\n",
      "2022-01-20 00:00:00\n",
      "2022-01-21 00:00:00\n",
      "2022-01-22 00:00:00\n",
      "2022-01-23 00:00:00\n",
      "2022-01-24 00:00:00\n",
      "2022-01-25 00:00:00\n",
      "2022-01-26 00:00:00\n",
      "2022-01-27 00:00:00\n",
      "2022-01-28 00:00:00\n",
      "2022-01-29 00:00:00\n",
      "2022-01-30 00:00:00\n",
      "2022-01-31 00:00:00\n",
      "2022-02-01 00:00:00\n",
      "2022-02-02 00:00:00\n",
      "2022-02-03 00:00:00\n",
      "2022-02-04 00:00:00\n",
      "2022-02-05 00:00:00\n",
      "2022-02-06 00:00:00\n",
      "2022-02-07 00:00:00\n",
      "2022-02-08 00:00:00\n",
      "2022-02-09 00:00:00\n",
      "2022-02-10 00:00:00\n",
      "2022-02-11 00:00:00\n",
      "2022-02-12 00:00:00\n",
      "2022-02-13 00:00:00\n",
      "2022-02-14 00:00:00\n",
      "2022-02-15 00:00:00\n",
      "2022-02-16 00:00:00\n",
      "2022-02-17 00:00:00\n",
      "2022-02-18 00:00:00\n",
      "2022-02-19 00:00:00\n",
      "2022-02-20 00:00:00\n",
      "2022-02-21 00:00:00\n",
      "2022-02-22 00:00:00\n",
      "2022-02-23 00:00:00\n",
      "2022-02-24 00:00:00\n",
      "2022-02-25 00:00:00\n",
      "2022-02-26 00:00:00\n",
      "2022-02-27 00:00:00\n",
      "2022-02-28 00:00:00\n",
      "2022-03-01 00:00:00\n",
      "2022-03-02 00:00:00\n",
      "2022-03-03 00:00:00\n",
      "2022-03-04 00:00:00\n",
      "2022-03-05 00:00:00\n",
      "2022-03-06 00:00:00\n",
      "2022-03-07 00:00:00\n",
      "2022-03-08 00:00:00\n",
      "2022-03-09 00:00:00\n",
      "2022-03-10 00:00:00\n",
      "2022-03-11 00:00:00\n",
      "2022-03-12 00:00:00\n",
      "2022-03-13 00:00:00\n",
      "2022-03-14 00:00:00\n",
      "2022-03-15 00:00:00\n",
      "2022-03-16 00:00:00\n",
      "2022-03-17 00:00:00\n",
      "2022-03-18 00:00:00\n",
      "2022-03-19 00:00:00\n",
      "2022-03-20 00:00:00\n",
      "2022-03-21 00:00:00\n",
      "2022-03-22 00:00:00\n",
      "2022-03-23 00:00:00\n",
      "2022-03-24 00:00:00\n",
      "2022-03-25 00:00:00\n",
      "2022-03-26 00:00:00\n",
      "2022-03-27 00:00:00\n",
      "2022-03-28 00:00:00\n",
      "2022-03-29 00:00:00\n",
      "2022-03-30 00:00:00\n",
      "2022-03-31 00:00:00\n",
      "2022-04-01 00:00:00\n",
      "2022-04-02 00:00:00\n",
      "2022-04-03 00:00:00\n",
      "2022-04-04 00:00:00\n",
      "2022-04-05 00:00:00\n",
      "2022-04-06 00:00:00\n",
      "2022-04-07 00:00:00\n",
      "2022-04-08 00:00:00\n",
      "2022-04-09 00:00:00\n",
      "2022-04-10 00:00:00\n",
      "2022-04-11 00:00:00\n",
      "2022-04-12 00:00:00\n",
      "2022-04-13 00:00:00\n",
      "2022-04-14 00:00:00\n",
      "2022-04-15 00:00:00\n",
      "2022-04-16 00:00:00\n",
      "2022-04-17 00:00:00\n",
      "2022-04-18 00:00:00\n",
      "2022-04-19 00:00:00\n",
      "2022-04-20 00:00:00\n",
      "2022-04-21 00:00:00\n",
      "2022-04-22 00:00:00\n",
      "2022-04-23 00:00:00\n",
      "2022-04-24 00:00:00\n",
      "2022-04-25 00:00:00\n",
      "2022-04-26 00:00:00\n",
      "2022-04-27 00:00:00\n",
      "2022-04-28 00:00:00\n",
      "2022-04-29 00:00:00\n",
      "2022-04-30 00:00:00\n",
      "2022-05-01 00:00:00\n",
      "2022-05-02 00:00:00\n",
      "2022-05-03 00:00:00\n",
      "2022-05-04 00:00:00\n",
      "2022-05-05 00:00:00\n",
      "2022-05-06 00:00:00\n",
      "2022-05-07 00:00:00\n",
      "2022-05-08 00:00:00\n",
      "2022-05-09 00:00:00\n",
      "2022-05-10 00:00:00\n",
      "2022-05-11 00:00:00\n",
      "2022-05-12 00:00:00\n",
      "2022-05-13 00:00:00\n",
      "2022-05-14 00:00:00\n",
      "2022-05-15 00:00:00\n",
      "2022-05-16 00:00:00\n",
      "2022-05-17 00:00:00\n",
      "2022-05-18 00:00:00\n",
      "2022-05-19 00:00:00\n",
      "2022-05-20 00:00:00\n",
      "2022-05-21 00:00:00\n",
      "2022-05-22 00:00:00\n",
      "2022-05-23 00:00:00\n",
      "2022-05-24 00:00:00\n",
      "2022-05-25 00:00:00\n",
      "2022-05-26 00:00:00\n",
      "2022-05-27 00:00:00\n",
      "2022-05-28 00:00:00\n",
      "2022-05-29 00:00:00\n",
      "2022-05-30 00:00:00\n",
      "2022-05-31 00:00:00\n",
      "2022-06-01 00:00:00\n",
      "2022-06-02 00:00:00\n",
      "2022-06-03 00:00:00\n",
      "2022-06-04 00:00:00\n",
      "2022-06-05 00:00:00\n",
      "2022-06-06 00:00:00\n",
      "2022-06-07 00:00:00\n",
      "2022-06-08 00:00:00\n",
      "2022-06-09 00:00:00\n",
      "2022-06-10 00:00:00\n",
      "2022-06-11 00:00:00\n",
      "2022-06-12 00:00:00\n",
      "2022-06-13 00:00:00\n",
      "2022-06-14 00:00:00\n",
      "2022-06-15 00:00:00\n",
      "2022-06-16 00:00:00\n",
      "2022-06-17 00:00:00\n",
      "2022-06-18 00:00:00\n",
      "2022-06-19 00:00:00\n",
      "2022-06-20 00:00:00\n",
      "2022-06-21 00:00:00\n",
      "2022-06-22 00:00:00\n",
      "2022-06-23 00:00:00\n",
      "2022-06-24 00:00:00\n",
      "2022-06-25 00:00:00\n",
      "2022-06-26 00:00:00\n",
      "2022-06-27 00:00:00\n",
      "2022-06-28 00:00:00\n",
      "2022-06-29 00:00:00\n",
      "2022-06-30 00:00:00\n",
      "2022-07-01 00:00:00\n",
      "2022-07-02 00:00:00\n",
      "2022-07-03 00:00:00\n",
      "2022-07-04 00:00:00\n",
      "2022-07-05 00:00:00\n",
      "2022-07-06 00:00:00\n",
      "2022-07-07 00:00:00\n",
      "2022-07-08 00:00:00\n",
      "2022-07-09 00:00:00\n",
      "2022-07-10 00:00:00\n",
      "2022-07-11 00:00:00\n",
      "2022-07-12 00:00:00\n",
      "2022-07-13 00:00:00\n",
      "2022-07-14 00:00:00\n",
      "2022-07-15 00:00:00\n",
      "2022-07-16 00:00:00\n",
      "2022-07-17 00:00:00\n",
      "2022-07-18 00:00:00\n",
      "2022-07-19 00:00:00\n",
      "2022-07-20 00:00:00\n",
      "2022-07-21 00:00:00\n",
      "2022-07-22 00:00:00\n",
      "2022-07-23 00:00:00\n",
      "2022-07-24 00:00:00\n",
      "2022-07-25 00:00:00\n",
      "2022-07-26 00:00:00\n",
      "2022-07-27 00:00:00\n",
      "2022-07-28 00:00:00\n",
      "2022-07-29 00:00:00\n",
      "2022-07-30 00:00:00\n",
      "2022-07-31 00:00:00\n",
      "2022-08-01 00:00:00\n",
      "2022-08-02 00:00:00\n",
      "2022-08-03 00:00:00\n",
      "2022-08-04 00:00:00\n",
      "2022-08-05 00:00:00\n",
      "2022-08-06 00:00:00\n",
      "2022-08-07 00:00:00\n",
      "2022-08-08 00:00:00\n",
      "2022-08-09 00:00:00\n",
      "2022-08-10 00:00:00\n",
      "2022-08-11 00:00:00\n",
      "2022-08-12 00:00:00\n",
      "2022-08-13 00:00:00\n",
      "2022-08-14 00:00:00\n",
      "2022-08-15 00:00:00\n",
      "2022-08-16 00:00:00\n",
      "2022-08-17 00:00:00\n",
      "2022-08-18 00:00:00\n",
      "2022-08-19 00:00:00\n",
      "2022-08-20 00:00:00\n",
      "2022-08-21 00:00:00\n",
      "2022-08-22 00:00:00\n",
      "2022-08-23 00:00:00\n",
      "2022-08-24 00:00:00\n",
      "2022-08-25 00:00:00\n",
      "2022-08-26 00:00:00\n",
      "2022-08-27 00:00:00\n",
      "2022-08-28 00:00:00\n",
      "2022-08-29 00:00:00\n",
      "2022-08-30 00:00:00\n",
      "2022-08-31 00:00:00\n",
      "2022-09-01 00:00:00\n",
      "2022-09-02 00:00:00\n",
      "2022-09-03 00:00:00\n",
      "2022-09-04 00:00:00\n",
      "2022-09-05 00:00:00\n",
      "2022-09-06 00:00:00\n",
      "2022-09-07 00:00:00\n",
      "2022-09-08 00:00:00\n",
      "2022-09-09 00:00:00\n",
      "2022-09-10 00:00:00\n",
      "2022-09-11 00:00:00\n",
      "2022-09-12 00:00:00\n",
      "2022-09-13 00:00:00\n",
      "2022-09-14 00:00:00\n",
      "2022-09-15 00:00:00\n",
      "2022-09-16 00:00:00\n",
      "2022-09-17 00:00:00\n",
      "2022-09-18 00:00:00\n",
      "2022-09-19 00:00:00\n",
      "2022-09-20 00:00:00\n",
      "2022-09-21 00:00:00\n",
      "2022-09-22 00:00:00\n",
      "2022-09-23 00:00:00\n",
      "2022-09-24 00:00:00\n",
      "2022-09-25 00:00:00\n",
      "2022-09-26 00:00:00\n",
      "2022-09-27 00:00:00\n",
      "2022-09-28 00:00:00\n",
      "2022-09-29 00:00:00\n",
      "2022-09-30 00:00:00\n",
      "2022-10-01 00:00:00\n",
      "2022-10-02 00:00:00\n",
      "2022-10-03 00:00:00\n",
      "2022-10-04 00:00:00\n",
      "2022-10-05 00:00:00\n",
      "2022-10-06 00:00:00\n",
      "2022-10-07 00:00:00\n",
      "2022-10-08 00:00:00\n",
      "2022-10-09 00:00:00\n",
      "2022-10-10 00:00:00\n",
      "2022-10-11 00:00:00\n",
      "2022-10-12 00:00:00\n",
      "2022-10-13 00:00:00\n",
      "2022-10-14 00:00:00\n",
      "2022-10-15 00:00:00\n",
      "2022-10-16 00:00:00\n",
      "2022-10-17 00:00:00\n",
      "2022-10-18 00:00:00\n",
      "2022-10-19 00:00:00\n",
      "2022-10-20 00:00:00\n",
      "2022-10-21 00:00:00\n",
      "2022-10-22 00:00:00\n",
      "2022-10-23 00:00:00\n",
      "2022-10-24 00:00:00\n",
      "2022-10-25 00:00:00\n",
      "2022-10-26 00:00:00\n",
      "2022-10-27 00:00:00\n",
      "2022-10-28 00:00:00\n",
      "2022-10-29 00:00:00\n",
      "2022-10-30 00:00:00\n",
      "2022-10-31 00:00:00\n",
      "2022-11-01 00:00:00\n",
      "2022-11-02 00:00:00\n",
      "2022-11-03 00:00:00\n",
      "2022-11-04 00:00:00\n",
      "2022-11-05 00:00:00\n",
      "2022-11-06 00:00:00\n",
      "2022-11-07 00:00:00\n",
      "2022-11-08 00:00:00\n",
      "2022-11-09 00:00:00\n",
      "2022-11-10 00:00:00\n",
      "2022-11-11 00:00:00\n",
      "2022-11-12 00:00:00\n",
      "2022-11-13 00:00:00\n",
      "2022-11-14 00:00:00\n",
      "2022-11-15 00:00:00\n",
      "2022-11-16 00:00:00\n",
      "2022-11-17 00:00:00\n",
      "2022-11-18 00:00:00\n",
      "2022-11-19 00:00:00\n",
      "2022-11-20 00:00:00\n",
      "2022-11-21 00:00:00\n",
      "2022-11-22 00:00:00\n",
      "2022-11-23 00:00:00\n",
      "2022-11-24 00:00:00\n",
      "2022-11-25 00:00:00\n",
      "2022-11-26 00:00:00\n",
      "2022-11-27 00:00:00\n",
      "2022-11-28 00:00:00\n",
      "2022-11-29 00:00:00\n",
      "2022-11-30 00:00:00\n",
      "2022-12-01 00:00:00\n",
      "2022-12-02 00:00:00\n",
      "2022-12-03 00:00:00\n",
      "2022-12-04 00:00:00\n",
      "2022-12-05 00:00:00\n",
      "2022-12-06 00:00:00\n",
      "2022-12-07 00:00:00\n",
      "2022-12-08 00:00:00\n",
      "2022-12-09 00:00:00\n",
      "2022-12-10 00:00:00\n",
      "2022-12-11 00:00:00\n",
      "2022-12-12 00:00:00\n",
      "2022-12-13 00:00:00\n",
      "2022-12-14 00:00:00\n",
      "2022-12-15 00:00:00\n",
      "2022-12-16 00:00:00\n",
      "2022-12-17 00:00:00\n",
      "2022-12-18 00:00:00\n",
      "2022-12-19 00:00:00\n",
      "2022-12-20 00:00:00\n",
      "2022-12-21 00:00:00\n",
      "2022-12-22 00:00:00\n",
      "2022-12-23 00:00:00\n",
      "2022-12-24 00:00:00\n",
      "2022-12-25 00:00:00\n",
      "2022-12-26 00:00:00\n",
      "2022-12-27 00:00:00\n",
      "2022-12-28 00:00:00\n",
      "2022-12-29 00:00:00\n",
      "2022-12-30 00:00:00\n",
      "2022-12-31 00:00:00\n"
     ]
    },
    {
     "name": "stderr",
     "output_type": "stream",
     "text": [
      "E:\\IBM\\lib\\site-packages\\IPython\\core\\interactiveshell.py:3457: UserWarning: Parsing '31-12-2022' in DD/MM/YYYY format. Provide format or specify infer_datetime_format=True for consistent parsing.\n",
      "  exec(code_obj, self.user_global_ns, self.user_ns)\n"
     ]
    }
   ],
   "source": [
    "m= pd.date_range(start='1-11-2022',end='31-12-2022')\n",
    "for i in m:\n",
    "  print(i)"
   ]
  },
  {
   "cell_type": "markdown",
   "metadata": {
    "id": "XTuZvayY7bPH"
   },
   "source": [
    "### **10. Create 2D list to DataFrame**\n",
    "\n",
    "**l = [[1, 'Jeevanantham', 20], [2, 'saravanakumar', 20], [3, 'Sasireka', 20],[4,'Raampradaap',20],[5,'Jeevanantham',20]]\n",
    "]**"
   ]
  },
  {
   "cell_type": "code",
   "execution_count": 26,
   "metadata": {
    "id": "QfWoHLvm72jU"
   },
   "outputs": [],
   "source": [
    "l= [[1, 'Jeevanantham', 20], [2, 'saravanakumar', 20], [3, 'Sasireka', 20],[4,'Raampradaap',20],[5,'Jeevanantham',20]]\n"
   ]
  },
  {
   "cell_type": "code",
   "execution_count": 27,
   "metadata": {
    "colab": {
     "base_uri": "https://localhost:8080/"
    },
    "id": "9MRGHg_Z783Z",
    "outputId": "792e432f-e274-4f06-bbb7-74c6a38d85ad"
   },
   "outputs": [
    {
     "name": "stdout",
     "output_type": "stream",
     "text": [
      "   0              1   2\n",
      "0  1   Jeevanantham  20\n",
      "1  2  saravanakumar  20\n",
      "2  3       Sasireka  20\n",
      "3  4    Raampradaap  20\n",
      "4  5   Jeevanantham  20\n"
     ]
    }
   ],
   "source": [
    "print(pd.DataFrame(l))"
   ]
  },
  {
   "cell_type": "code",
   "execution_count": null,
   "metadata": {},
   "outputs": [],
   "source": []
  }
 ],
 "metadata": {
  "colab": {
   "collapsed_sections": [],
   "provenance": []
  },
  "kernelspec": {
   "display_name": "Python 3 (ipykernel)",
   "language": "python",
   "name": "python3"
  },
  "language_info": {
   "codemirror_mode": {
    "name": "ipython",
    "version": 3
   },
   "file_extension": ".py",
   "mimetype": "text/x-python",
   "name": "python",
   "nbconvert_exporter": "python",
   "pygments_lexer": "ipython3",
   "version": "3.9.13"
  }
 },
 "nbformat": 4,
 "nbformat_minor": 1
}
